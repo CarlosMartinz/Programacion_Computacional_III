{
  "nbformat": 4,
  "nbformat_minor": 0,
  "metadata": {
    "colab": {
      "name": "clase.ipynb",
      "provenance": [],
      "collapsed_sections": [],
      "authorship_tag": "ABX9TyO9U3Y5tOEOCPHP8CM27Esb",
      "include_colab_link": true
    },
    "kernelspec": {
      "name": "python3",
      "display_name": "Python 3"
    },
    "language_info": {
      "name": "python"
    }
  },
  "cells": [
    {
      "cell_type": "markdown",
      "metadata": {
        "id": "view-in-github",
        "colab_type": "text"
      },
      "source": [
        "<a href=\"https://colab.research.google.com/github/EliasParada/Programacion_Computacional_III/blob/main/clase.ipynb\" target=\"_parent\"><img src=\"https://colab.research.google.com/assets/colab-badge.svg\" alt=\"Open In Colab\"/></a>"
      ]
    },
    {
      "cell_type": "code",
      "metadata": {
        "id": "hJ-D0z9aKzPE",
        "colab": {
          "base_uri": "https://localhost:8080/"
        },
        "outputId": "10e9133a-aeda-4101-d52a-f8fb0960fa54"
      },
      "source": [
        "#Calcular sobresueldo\n",
        "#iss (3%), afp (6,25%), isr(tabla), imprimir sueldo neto y total reducciones.\n",
        "sueldo = float(input('Sueldo:\\n'))\n",
        "isss = sueldo * 0.03\n",
        "afp = sueldo * 0.0625\n",
        "sueldoneto = sueldo - isss - afp\n",
        "\n",
        "tablaIsr = [\n",
        "            [0.01, 472.0, 0, 0],\n",
        "            [472.01, 895.24, 0.01, 17, 67],\n",
        "            [895.25, 2038.10, 0.2, 60],\n",
        "            [2038.11, 999999, 0.3, 288.57]\n",
        "]\n",
        "\n",
        "print(sueldo, 'Deducciones:', (isss + afp), 'Sueldo Neto: ', sueldoneto)"
      ],
      "execution_count": 6,
      "outputs": [
        {
          "output_type": "stream",
          "text": [
            "Sueldo:\n",
            "800\n",
            "800.0 Deducciones: 74.0 Sueldo Neto:  726.0\n"
          ],
          "name": "stdout"
        }
      ]
    }
  ]
}