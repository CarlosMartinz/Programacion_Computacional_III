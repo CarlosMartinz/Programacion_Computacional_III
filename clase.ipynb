{
  "nbformat": 4,
  "nbformat_minor": 0,
  "metadata": {
    "colab": {
      "name": "clase.ipynb",
      "provenance": [],
      "collapsed_sections": [],
      "authorship_tag": "ABX9TyPxNYpzUxpX7bEr3cQgRjRL",
      "include_colab_link": true
    },
    "kernelspec": {
      "name": "python3",
      "display_name": "Python 3"
    },
    "language_info": {
      "name": "python"
    }
  },
  "cells": [
    {
      "cell_type": "markdown",
      "metadata": {
        "id": "view-in-github",
        "colab_type": "text"
      },
      "source": [
        "<a href=\"https://colab.research.google.com/github/EliasParada/Programacion_Computacional_III/blob/main/clase.ipynb\" target=\"_parent\"><img src=\"https://colab.research.google.com/assets/colab-badge.svg\" alt=\"Open In Colab\"/></a>"
      ]
    },
    {
      "cell_type": "code",
      "metadata": {
        "id": "hJ-D0z9aKzPE",
        "colab": {
          "base_uri": "https://localhost:8080/"
        },
        "outputId": "cf8aeaaf-2818-43dc-f57d-7cd90de01c78"
      },
      "source": [
        "#Calcular sobresueldo\n",
        "#iss (3%), afp (6,25%), isr(tabla), imprimir sueldo neto y total reducciones.\n",
        "sueldo = float(input('Sueldo:\\n'))\n",
        "isss = sueldo * 0.03\n"
      ],
      "execution_count": 1,
      "outputs": [
        {
          "output_type": "stream",
          "text": [
            "Dueldo: \n",
            "34.5\n"
          ],
          "name": "stdout"
        }
      ]
    }
  ]
}